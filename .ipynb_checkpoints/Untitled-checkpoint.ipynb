{
 "cells": [
  {
   "cell_type": "code",
   "execution_count": 1,
   "metadata": {},
   "outputs": [],
   "source": [
    "import sys\n",
    "import scipy.io\n",
    "import scipy.signal as sig\n",
    "import matplotlib.pyplot as plt\n",
    "import numpy as np\n",
    "import pandas as pd\n",
    "import os"
   ]
  },
  {
   "cell_type": "code",
   "execution_count": 10,
   "metadata": {},
   "outputs": [
    {
     "name": "stdout",
     "output_type": "stream",
     "text": [
      "       class  data\n",
      "A00001     N  None\n",
      "A00002     N  None\n",
      "A00003     N  None\n",
      "A00004     A  None\n",
      "A00005     A  None\n",
      "error, scipping file\n",
      "       class                                               data\n",
      "A00001     N  [[-127, -162, -197, -229, -245, -254, -261, -2...\n",
      "A00002     N  [[128, 157, 189, 226, 250, 257, 262, 265, 268,...\n",
      "A00003     N  [[56, 73, 85, 93, 100, 107, 113, 117, 118, 117...\n",
      "A00004     A  [[519, 619, 723, 827, 914, 956, 955, 934, 920,...\n",
      "A00005     A  [[-188, -239, -274, -316, -356, -374, -380, -3...\n"
     ]
    }
   ],
   "source": [
    "# Start by loading the data\n",
    "\n",
    "training_path = \"CinC2017Data/training2017/training2017/\"\n",
    "answers_path = \"CinC2017Data/REFERENCE-v3.csv\"\n",
    "\n",
    "dataset = pd.read_csv(answers_path, header=None, names=[\"class\"], index_col=0)\n",
    "dataset[\"data\"] = None\n",
    "\n",
    "print(dataset.head())\n",
    "\n",
    "for root, dirs, files in os.walk(training_path):\n",
    "    for name in files:\n",
    "        try:\n",
    "            name, ext = name.split(\".\")\n",
    "        except ValueError:\n",
    "            print(\"error, scipping file\")\n",
    "            continue\n",
    "        if ext == \"mat\":\n",
    "            mat_data = scipy.io.loadmat(os.path.join(root, name+\".\"+ext))\n",
    "            dataset.loc[name][\"data\"] = mat_data[\"val\"]\n",
    "            print(f\"Adding {name}\\r\", end=\"\")\n",
    "            \n",
    "print(dataset.head())\n",
    "pk_path = \"CinC2017Data/database.pk\"\n",
    "dataset.to_pickle(pk_path)"
   ]
  },
  {
   "cell_type": "code",
   "execution_count": 20,
   "metadata": {},
   "outputs": [
    {
     "name": "stdout",
     "output_type": "stream",
     "text": [
      "Number of recordings by length\n",
      "9000     5977\n",
      "18000     809\n",
      "3600        4\n",
      "5834        4\n",
      "5364        4\n",
      "         ... \n",
      "18116       1\n",
      "9936        1\n",
      "9944        1\n",
      "18140       1\n",
      "12310       1\n",
      "Name: length, Length: 1487, dtype: int64\n",
      "total number of recordings: 8528\n"
     ]
    }
   ],
   "source": [
    "dataset[\"length\"] = dataset[\"data\"].map(lambda arr: arr.shape[-1])\n",
    "print(\"Number of recordings by length\")\n",
    "print(dataset[\"length\"].value_counts())\n",
    "print(f\"total number of recordings: {len(dataset.index)}\")"
   ]
  },
  {
   "cell_type": "code",
   "execution_count": null,
   "metadata": {},
   "outputs": [],
   "source": [
    "import torch.nn.Module\n",
    "import torch.nn.Parameter"
   ]
  },
  {
   "cell_type": "code",
   "execution_count": null,
   "metadata": {},
   "outputs": [],
   "source": [
    "# Now define a model\n",
    "\n",
    "class CNN(torch.nn.Module):\n",
    "    \n",
    "    def __init__(self):\n",
    "        super(TinyModel, self).__init__()\n",
    "\n",
    "        self.cnn1 = torch.nn.Linear(100, 200)\n",
    "        self.activation = torch.nn.ReLU()\n",
    "        self.linear2 = torch.nn.Linear(200, 10)\n",
    "        self.softmax = torch.nn.Softmax()\n",
    "\n",
    "    def forward(self, x):\n",
    "        x = self.linear1(x)\n",
    "        x = self.activation(x)\n",
    "        x = self.linear2(x)\n",
    "        x = self.softmax(x)\n",
    "        return x"
   ]
  }
 ],
 "metadata": {
  "kernelspec": {
   "display_name": "Python 3",
   "language": "python",
   "name": "python3"
  },
  "language_info": {
   "codemirror_mode": {
    "name": "ipython",
    "version": 3
   },
   "file_extension": ".py",
   "mimetype": "text/x-python",
   "name": "python",
   "nbconvert_exporter": "python",
   "pygments_lexer": "ipython3",
   "version": "3.8.2"
  }
 },
 "nbformat": 4,
 "nbformat_minor": 4
}
