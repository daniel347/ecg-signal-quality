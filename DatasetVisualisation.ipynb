{
 "cells": [
  {
   "cell_type": "code",
   "execution_count": 1,
   "metadata": {},
   "outputs": [],
   "source": [
    "import matplotlib.pyplot as plt\n",
    "import numpy as np\n",
    "import pandas as pd\n",
    "import plotly.graph_objects as go\n",
    "from plotly.subplots import make_subplots\n",
    "from scipy.signal import stft\n",
    "from scipy import signal\n",
    "# import pywt\n",
    "import CinCDataset\n",
    "import SAFERDataset\n",
    "from ecgdetectors import Detectors"
   ]
  },
  {
   "cell_type": "code",
   "execution_count": 2,
   "metadata": {},
   "outputs": [
    {
     "data": {
      "text/plain": "'3.10.4 (tags/v3.10.4:9d38120, Mar 23 2022, 23:13:41) [MSC v.1929 64 bit (AMD64)]'"
     },
     "execution_count": 2,
     "metadata": {},
     "output_type": "execute_result"
    }
   ],
   "source": [
    "import sys\n",
    "sys.version"
   ]
  },
  {
   "cell_type": "code",
   "execution_count": 3,
   "metadata": {},
   "outputs": [],
   "source": [
    "import importlib\n",
    "importlib.reload(SAFERDataset)\n",
    "importlib.reload(CinCDataset)\n",
    "\n",
    "from DiagEnum import DiagEnum, feas1DiagToEnum"
   ]
  },
  {
   "cell_type": "code",
   "execution_count": 4,
   "metadata": {},
   "outputs": [],
   "source": [
    "import matplotlib\n",
    "matplotlib.use('TkAgg')"
   ]
  },
  {
   "cell_type": "code",
   "execution_count": 79,
   "metadata": {},
   "outputs": [],
   "source": [
    "# dataset = CinCDataset.load_cinc_dataset()\n",
    "pt_dataset, dataset = SAFERDataset.load_feas_dataset(feas=2, force_reload=False, process=True, force_reprocess=False) # , ecg_meas_diag=[e for e in DiagEnum if e != DiagEnum.Undecided])\n",
    "# pt_dataset, dataset = SAFERDataset.load_feas_dataset(2, save_name=\"dataframe_laptop\")"
   ]
  },
  {
   "cell_type": "code",
   "execution_count": 5,
   "outputs": [],
   "source": [
    "dataset = pd.read_pickle(r\"C:\\Users\\daniel\\Documents\\2022_23_DSiromani\\Feas2\\ECGs\\filtered_dataframe.pk\")\n",
    "pt_datset = pd.read_csv(r\"C:\\Users\\daniel\\Documents\\2022_23_DSiromani\\Feas2\\pt_data_anon.csv\")"
   ],
   "metadata": {
    "collapsed": false
   }
  },
  {
   "cell_type": "code",
   "execution_count": 6,
   "metadata": {},
   "outputs": [
    {
     "name": "stdout",
     "output_type": "stream",
     "text": [
      "Number of recordings by length\n",
      "9120    23259\n",
      "Name: length, dtype: int64\n",
      "total number of recordings: 23259\n"
     ]
    }
   ],
   "source": [
    "print(\"Number of recordings by length\")\n",
    "print(dataset[\"length\"].value_counts())\n",
    "# dataset = dataset[dataset[\"length\"] == 9120]\n",
    "print(f\"total number of recordings: {len(dataset.index)}\")\n",
    "dataset[\"class\"] = dataset[\"measDiag\"]"
   ]
  },
  {
   "cell_type": "code",
   "execution_count": 7,
   "outputs": [
    {
     "data": {
      "text/plain": "DiagEnum.Undecided                 22018\nDiagEnum.NoAF                        758\nDiagEnum.PoorQuality                 465\nDiagEnum.AF                           16\nDiagEnum.CannotExcludePathology        2\nName: class, dtype: int64"
     },
     "execution_count": 7,
     "metadata": {},
     "output_type": "execute_result"
    }
   ],
   "source": [
    "dataset[\"class\"].value_counts()"
   ],
   "metadata": {
    "collapsed": false
   }
  },
  {
   "cell_type": "code",
   "execution_count": 14,
   "outputs": [
    {
     "data": {
      "text/plain": "DiagEnum.NoAF    615\nDiagEnum.AF       15\nName: class, dtype: int64"
     },
     "execution_count": 14,
     "metadata": {},
     "output_type": "execute_result"
    }
   ],
   "source": [
    "dataset_clean = dataset[(dataset[\"heartrate\"] < 120) & (dataset[\"heartrate\"] > 50) & (dataset[\"r_peak_height\"].map(np.median) > 2) & ((dataset[\"measDiag\"] == DiagEnum.AF) | (dataset[\"measDiag\"] == DiagEnum.NoAF))]\n",
    "dataset_clean[\"class\"].value_counts()"
   ],
   "metadata": {
    "collapsed": false
   }
  },
  {
   "cell_type": "code",
   "execution_count": 15,
   "outputs": [],
   "source": [
    "dataset_clean.to_pickle(r\"C:\\Users\\daniel\\Documents\\2022_23_DSiromani\\Feas2\\ECGs\\clean_ecg_dataset.pk\")"
   ],
   "metadata": {
    "collapsed": false
   }
  },
  {
   "cell_type": "code",
   "execution_count": 19,
   "metadata": {},
   "outputs": [],
   "source": [
    "def compareEnums(series, e):\n",
    "    return series.map(lambda x: x.value) == e.value"
   ]
  },
  {
   "cell_type": "markdown",
   "metadata": {},
   "source": [
    "## Plotting example time series for each class"
   ]
  },
  {
   "cell_type": "code",
   "execution_count": 75,
   "metadata": {},
   "outputs": [
    {
     "name": "stdout",
     "output_type": "stream",
     "text": [
      "ptDiag                   DiagEnum.CannotExcludePathology\n",
      "tag_orig_Poor_Quality                                  0\n",
      "poss_AF_tag                                            1\n",
      "measDiag                 DiagEnum.CannotExcludePathology\n",
      "heartrate                                      51.315789\n",
      "Name: 73748, dtype: object\n",
      "0.9999990993421601\n",
      "ptDiag                                       DiagEnum.AF\n",
      "tag_orig_Poor_Quality                                  0\n",
      "poss_AF_tag                                            1\n",
      "measDiag                 DiagEnum.CannotExcludePathology\n",
      "heartrate                                      92.763158\n",
      "Name: 97462, dtype: object\n",
      "0.9999999989930569\n",
      "ptDiag                                       DiagEnum.AF\n",
      "tag_orig_Poor_Quality                                  0\n",
      "poss_AF_tag                                            1\n",
      "measDiag                 DiagEnum.CannotExcludePathology\n",
      "heartrate                                      96.710526\n",
      "Name: 107142, dtype: object\n",
      "0.9999990852005599\n",
      "ptDiag                   DiagEnum.CannotExcludePathology\n",
      "tag_orig_Poor_Quality                                  0\n",
      "poss_AF_tag                                            1\n",
      "measDiag                 DiagEnum.CannotExcludePathology\n",
      "heartrate                                      98.684211\n",
      "Name: 15422, dtype: object\n",
      "0.9999725217266632\n",
      "ptDiag                                       DiagEnum.AF\n",
      "tag_orig_Poor_Quality                                  0\n",
      "poss_AF_tag                                            1\n",
      "measDiag                 DiagEnum.CannotExcludePathology\n",
      "heartrate                                      92.763158\n",
      "Name: 107127, dtype: object\n",
      "0.9999989128502994\n"
     ]
    },
    {
     "ename": "KeyboardInterrupt",
     "evalue": "",
     "output_type": "error",
     "traceback": [
      "\u001B[1;31m---------------------------------------------------------------------------\u001B[0m",
      "\u001B[1;31mKeyboardInterrupt\u001B[0m                         Traceback (most recent call last)",
      "Cell \u001B[1;32mIn [75], line 51\u001B[0m\n\u001B[0;32m     49\u001B[0m \u001B[38;5;28mprint\u001B[39m(ecg[\u001B[38;5;124m\"\u001B[39m\u001B[38;5;124mdata\u001B[39m\u001B[38;5;124m\"\u001B[39m]\u001B[38;5;241m.\u001B[39mstd())\n\u001B[0;32m     50\u001B[0m plot_ecg(ecg[\u001B[38;5;124m\"\u001B[39m\u001B[38;5;124mdata\u001B[39m\u001B[38;5;124m\"\u001B[39m], \u001B[38;5;241m300\u001B[39m)\n\u001B[1;32m---> 51\u001B[0m plt\u001B[38;5;241m.\u001B[39mshow()\n",
      "File \u001B[1;32m~\\Documents\\CambridgeSoftwareProjects\\ecg-signal-quality\\projectEnv\\lib\\site-packages\\matplotlib\\pyplot.py:409\u001B[0m, in \u001B[0;36mshow\u001B[1;34m(*args, **kwargs)\u001B[0m\n\u001B[0;32m    365\u001B[0m \u001B[38;5;124;03m\"\"\"\u001B[39;00m\n\u001B[0;32m    366\u001B[0m \u001B[38;5;124;03mDisplay all open figures.\u001B[39;00m\n\u001B[0;32m    367\u001B[0m \n\u001B[1;32m   (...)\u001B[0m\n\u001B[0;32m    406\u001B[0m \u001B[38;5;124;03mexplicitly there.\u001B[39;00m\n\u001B[0;32m    407\u001B[0m \u001B[38;5;124;03m\"\"\"\u001B[39;00m\n\u001B[0;32m    408\u001B[0m _warn_if_gui_out_of_main_thread()\n\u001B[1;32m--> 409\u001B[0m \u001B[38;5;28;01mreturn\u001B[39;00m _get_backend_mod()\u001B[38;5;241m.\u001B[39mshow(\u001B[38;5;241m*\u001B[39margs, \u001B[38;5;241m*\u001B[39m\u001B[38;5;241m*\u001B[39mkwargs)\n",
      "File \u001B[1;32m~\\Documents\\CambridgeSoftwareProjects\\ecg-signal-quality\\projectEnv\\lib\\site-packages\\matplotlib\\backend_bases.py:3546\u001B[0m, in \u001B[0;36m_Backend.show\u001B[1;34m(cls, block)\u001B[0m\n\u001B[0;32m   3544\u001B[0m     block \u001B[38;5;241m=\u001B[39m \u001B[38;5;129;01mnot\u001B[39;00m ipython_pylab \u001B[38;5;129;01mand\u001B[39;00m \u001B[38;5;129;01mnot\u001B[39;00m is_interactive()\n\u001B[0;32m   3545\u001B[0m \u001B[38;5;28;01mif\u001B[39;00m block:\n\u001B[1;32m-> 3546\u001B[0m     \u001B[38;5;28;43mcls\u001B[39;49m\u001B[38;5;241;43m.\u001B[39;49m\u001B[43mmainloop\u001B[49m\u001B[43m(\u001B[49m\u001B[43m)\u001B[49m\n",
      "File \u001B[1;32m~\\Documents\\CambridgeSoftwareProjects\\ecg-signal-quality\\projectEnv\\lib\\site-packages\\matplotlib\\backends\\_backend_tk.py:1032\u001B[0m, in \u001B[0;36m_BackendTk.mainloop\u001B[1;34m()\u001B[0m\n\u001B[0;32m   1030\u001B[0m manager_class\u001B[38;5;241m.\u001B[39m_owns_mainloop \u001B[38;5;241m=\u001B[39m \u001B[38;5;28;01mTrue\u001B[39;00m\n\u001B[0;32m   1031\u001B[0m \u001B[38;5;28;01mtry\u001B[39;00m:\n\u001B[1;32m-> 1032\u001B[0m     \u001B[43mfirst_manager\u001B[49m\u001B[38;5;241;43m.\u001B[39;49m\u001B[43mwindow\u001B[49m\u001B[38;5;241;43m.\u001B[39;49m\u001B[43mmainloop\u001B[49m\u001B[43m(\u001B[49m\u001B[43m)\u001B[49m\n\u001B[0;32m   1033\u001B[0m \u001B[38;5;28;01mfinally\u001B[39;00m:\n\u001B[0;32m   1034\u001B[0m     manager_class\u001B[38;5;241m.\u001B[39m_owns_mainloop \u001B[38;5;241m=\u001B[39m \u001B[38;5;28;01mFalse\u001B[39;00m\n",
      "File \u001B[1;32m~\\AppData\\Local\\Programs\\Python\\Python310\\lib\\tkinter\\__init__.py:1458\u001B[0m, in \u001B[0;36mMisc.mainloop\u001B[1;34m(self, n)\u001B[0m\n\u001B[0;32m   1456\u001B[0m \u001B[38;5;28;01mdef\u001B[39;00m \u001B[38;5;21mmainloop\u001B[39m(\u001B[38;5;28mself\u001B[39m, n\u001B[38;5;241m=\u001B[39m\u001B[38;5;241m0\u001B[39m):\n\u001B[0;32m   1457\u001B[0m     \u001B[38;5;124;03m\"\"\"Call the mainloop of Tk.\"\"\"\u001B[39;00m\n\u001B[1;32m-> 1458\u001B[0m     \u001B[38;5;28;43mself\u001B[39;49m\u001B[38;5;241;43m.\u001B[39;49m\u001B[43mtk\u001B[49m\u001B[38;5;241;43m.\u001B[39;49m\u001B[43mmainloop\u001B[49m\u001B[43m(\u001B[49m\u001B[43mn\u001B[49m\u001B[43m)\u001B[49m\n",
      "\u001B[1;31mKeyboardInterrupt\u001B[0m: "
     ]
    }
   ],
   "source": [
    "# Plot with proper ECG grid in matplotlib\n",
    "\n",
    "from matplotlib.ticker import AutoMinorLocator\n",
    "\n",
    "def plot_ecg(x, fs=500):\n",
    "    sample_len = x.shape[0]\n",
    "    time_axis = np.arange(sample_len)/fs\n",
    "\n",
    "    y_step = 2\n",
    "\n",
    "    cuts = [0, sample_len//3, (sample_len*2)//3, sample_len-1]\n",
    "\n",
    "    fig, ax = plt.subplots(3, 1, figsize=(8, 6))\n",
    "    for j in range(3):\n",
    "        ax[j].plot(time_axis[cuts[j]:cuts[j+1]], x[cuts[j]:cuts[j+1]])\n",
    "        ax[j].set_xlabel(\"Time\")\n",
    "        ax[j].set_xlim((time_axis[cuts[j]], time_axis[cuts[j+1]]))\n",
    "\n",
    "        t_s = time_axis[cuts[j]]\n",
    "        t_f = time_axis[cuts[j+1]]\n",
    "        time_ticks = np.arange(t_s - t_s%0.2, t_f + (0.2 - t_f%0.2), 0.2)\n",
    "        decimal_labels = ~np.isclose(time_ticks, np.round(time_ticks))\n",
    "        time_labels = np.round(time_ticks).astype(int).astype(str)\n",
    "        time_labels[decimal_labels] = \"\"\n",
    "\n",
    "        ax[j].set_xticks(time_ticks, labels=time_labels)\n",
    "        ax[j].set_yticks(np.arange(x.min()-y_step, x.max()+y_step, y_step))\n",
    "\n",
    "        # ax[j].xaxis.set_major_formatter(plt.NullFormatter())\n",
    "        # ax[j].yaxis.set_major_formatter(plt.NullFormatter())\n",
    "\n",
    "        ax[j].xaxis.set_minor_locator(AutoMinorLocator(5))\n",
    "        ax[j].yaxis.set_minor_locator(AutoMinorLocator(5))\n",
    "\n",
    "        ax[j].set_ylim((x.min()-y_step, x.max()+y_step))\n",
    "        ax[j].set_xlim((t_s, t_f))\n",
    "\n",
    "        ax[j].grid(which='major', linestyle='-', linewidth='0.2', color='black')\n",
    "        ax[j].grid(which='minor', linestyle='-', linewidth='0.2', color='lightgray')\n",
    "\n",
    "    fig.tight_layout()\n",
    "    # plt.savefig(\"test_ecg_plot.png\", dpi=300)\n",
    "    # plt.show()\n",
    "\n",
    "c = DiagEnum.CannotExcludePathology\n",
    "\n",
    "for _, ecg in dataset_clean[dataset_clean[\"class\"] == c].sample(frac=1).iterrows():\n",
    "    print(ecg[[\"ptDiag\", \"tag_orig_Poor_Quality\", \"poss_AF_tag\", \"measDiag\", \"heartrate\"]])\n",
    "    print(ecg[\"data\"].std())\n",
    "    plot_ecg(ecg[\"data\"], 300)\n",
    "    plt.show()"
   ]
  },
  {
   "cell_type": "code",
   "execution_count": 44,
   "outputs": [],
   "source": [
    "# Check the average adc gain\n",
    "fig, ax = plt.subplots(5)\n",
    "\n",
    "for j, (i, df) in enumerate(dataset.groupby(\"measDiag\", sort=False)):\n",
    "    num_values = len(df.index)\n",
    "    ax[j].hist(df[\"adc_gain\"], bins=np.arange(0, 2, 0.2), density=True)\n",
    "    ax[j].set_title(i.name)\n",
    "\n",
    "fig.tight_layout()\n",
    "plt.show()"
   ],
   "metadata": {
    "collapsed": false
   }
  },
  {
   "cell_type": "code",
   "execution_count": 8,
   "outputs": [],
   "source": [
    "# Check the heart rate\n",
    "detectors = Detectors(300)\n",
    "\n",
    "\"\"\"\n",
    "r_peaks = detectors.pan_tompkins_detector(dataset[\"data\"].loc[0])\n",
    "print(r_peaks)\n",
    "\n",
    "plt.plot(dataset[\"data\"].loc[0])\n",
    "plt.plot(r_peaks, dataset[\"data\"].loc[0][r_peaks], \"rx\")\n",
    "plt.show()\n",
    "\"\"\"\n",
    "\n",
    "dataset[\"r_peaks\"] = dataset[\"data\"].map(detectors.pan_tompkins_detector)\n",
    "dataset[\"r_peaks\"] = dataset[\"r_peaks\"].map(np.array)"
   ],
   "metadata": {
    "collapsed": false
   }
  },
  {
   "cell_type": "code",
   "execution_count": 10,
   "outputs": [],
   "source": [
    "def get_heartrate(r_peaks, sig_len=30.4):\n",
    "    return (len(r_peaks)/sig_len) * 60\n",
    "\n",
    "dataset[\"heartrate\"] = dataset[\"r_peaks\"].map(get_heartrate)"
   ],
   "metadata": {
    "collapsed": false
   }
  },
  {
   "cell_type": "code",
   "execution_count": 11,
   "outputs": [
    {
     "data": {
      "text/plain": "177.63157894736844"
     },
     "execution_count": 11,
     "metadata": {},
     "output_type": "execute_result"
    }
   ],
   "source": [
    "dataset[\"heartrate\"].max()"
   ],
   "metadata": {
    "collapsed": false
   }
  },
  {
   "cell_type": "code",
   "execution_count": 18,
   "outputs": [],
   "source": [
    "fig, ax = plt.subplots(5)\n",
    "\n",
    "for j, (i, df) in enumerate(dataset.groupby(\"measDiag\", sort=False)):\n",
    "    num_values = len(df.index)\n",
    "    ax[j].hist(df[\"heartrate\"], bins=np.arange(0, 210, 10), density=True)\n",
    "    ax[j].set_title(i.name)\n",
    "\n",
    "fig.tight_layout()\n",
    "plt.show()"
   ],
   "metadata": {
    "collapsed": false
   }
  },
  {
   "cell_type": "code",
   "execution_count": 12,
   "outputs": [],
   "source": [
    "import scipy.ndimage\n",
    "# Check amplitude of R peaks\n",
    "window = np.ones(3)/3\n",
    "\n",
    "def get_rpeaks_weighted_avg(search_range, w, peaks, ecg):\n",
    "    point_array = np.linspace(peaks - (search_range-1)/2, peaks + (search_range-1)/2, search_range)\n",
    "    point_array = np.mod(point_array, ecg.shape[0])\n",
    "    peak_vals = ecg[point_array.astype(int)]\n",
    "\n",
    "    smoothed_peaks = scipy.ndimage.correlate1d(peak_vals.T, w)\n",
    "    return np.max(smoothed_peaks, axis=1)\n",
    "\n",
    "\"\"\"\n",
    "peak_heights = get_rpeaks_weighted_avg(51, window, np.array(dataset.iloc[0][\"r_peaks\"]), dataset.iloc[0][\"data\"])\n",
    "print(peak_heights)\n",
    "print(dataset.iloc[0][\"r_peaks\"])\n",
    "\n",
    "plot_ecg(dataset.iloc[0][\"data\"], fs=300)\n",
    "plt.show()\n",
    "\"\"\"\n",
    "\n",
    "dataset[\"r_peak_height\"] = dataset.apply(lambda x: get_rpeaks_weighted_avg(50, window, x[\"r_peaks\"], x[\"data\"]), axis=1)"
   ],
   "metadata": {
    "collapsed": false
   }
  },
  {
   "cell_type": "code",
   "execution_count": 13,
   "outputs": [],
   "source": [
    "fig, ax = plt.subplots(5)\n",
    "\n",
    "for j, (i, df) in enumerate(dataset.groupby(\"measDiag\", sort=False)):\n",
    "    num_values = len(df.index)\n",
    "    ax[j].hist(df[\"r_peak_height\"].map(np.median), bins=np.arange(0, 10, 1), density=True)\n",
    "    ax[j].set_title(i.name)\n",
    "\n",
    "fig.tight_layout()\n",
    "plt.show()"
   ],
   "metadata": {
    "collapsed": false
   }
  },
  {
   "cell_type": "code",
   "execution_count": 20,
   "metadata": {},
   "outputs": [
    {
     "ename": "NameError",
     "evalue": "name 'compareEnums' is not defined",
     "output_type": "error",
     "traceback": [
      "\u001B[1;31m---------------------------------------------------------------------------\u001B[0m",
      "\u001B[1;31mNameError\u001B[0m                                 Traceback (most recent call last)",
      "Cell \u001B[1;32mIn [20], line 9\u001B[0m\n\u001B[0;32m      6\u001B[0m num_class_samples \u001B[38;5;241m=\u001B[39m num_cols \u001B[38;5;241m*\u001B[39m num_rows\n\u001B[0;32m      7\u001B[0m fig \u001B[38;5;241m=\u001B[39m make_subplots(rows\u001B[38;5;241m=\u001B[39mnum_rows, cols\u001B[38;5;241m=\u001B[39mnum_cols)\n\u001B[1;32m----> 9\u001B[0m \u001B[38;5;28;01mfor\u001B[39;00m i, (_, sample) \u001B[38;5;129;01min\u001B[39;00m \u001B[38;5;28menumerate\u001B[39m(dataset[compareEnums(dataset[\u001B[38;5;124m\"\u001B[39m\u001B[38;5;124mclass\u001B[39m\u001B[38;5;124m\"\u001B[39m], c)]\u001B[38;5;241m.\u001B[39msample(num_class_samples)\u001B[38;5;241m.\u001B[39miterrows()):\n\u001B[0;32m     10\u001B[0m     fig\u001B[38;5;241m.\u001B[39madd_trace(go\u001B[38;5;241m.\u001B[39mScatter(y\u001B[38;5;241m=\u001B[39msample[\u001B[38;5;124m\"\u001B[39m\u001B[38;5;124mdata\u001B[39m\u001B[38;5;124m\"\u001B[39m]), row\u001B[38;5;241m=\u001B[39mi\u001B[38;5;241m%\u001B[39mnum_cols \u001B[38;5;241m+\u001B[39m \u001B[38;5;241m1\u001B[39m, col \u001B[38;5;241m=\u001B[39m i\u001B[38;5;241m/\u001B[39m\u001B[38;5;241m/\u001B[39mnum_rows \u001B[38;5;241m+\u001B[39m \u001B[38;5;241m1\u001B[39m)\n\u001B[0;32m     12\u001B[0m fig\u001B[38;5;241m.\u001B[39mupdate_layout(height\u001B[38;5;241m=\u001B[39m\u001B[38;5;241m1000\u001B[39m)\n",
      "\u001B[1;31mNameError\u001B[0m: name 'compareEnums' is not defined"
     ]
    }
   ],
   "source": [
    "c = DiagEnum.AF\n",
    "\n",
    "num_rows = 4\n",
    "num_cols = 4\n",
    "\n",
    "num_class_samples = num_cols * num_rows\n",
    "fig = make_subplots(rows=num_rows, cols=num_cols)\n",
    "\n",
    "for i, (_, sample) in enumerate(dataset[compareEnums(dataset[\"class\"], c)].sample(num_class_samples).iterrows()):\n",
    "    fig.add_trace(go.Scatter(y=sample[\"data\"]), row=i%num_cols + 1, col = i//num_rows + 1)\n",
    "\n",
    "fig.update_layout(height=1000)\n",
    "fig.update_xaxes(title=\"sample number\")\n",
    "fig.update_yaxes(title=\"amplitude\")\n",
    "fig.show()"
   ]
  },
  {
   "cell_type": "markdown",
   "metadata": {},
   "source": [
    "## Plotting samples from each class with their DFTs below"
   ]
  },
  {
   "cell_type": "code",
   "execution_count": null,
   "metadata": {},
   "outputs": [],
   "source": [
    "c = DiagEnum.PoorQuality\n",
    "num_cols = 3\n",
    "num_rows = 2\n",
    "\n",
    "num_class_samples = num_cols\n",
    "fig = make_subplots(rows=num_rows, cols=num_cols)\n",
    "\n",
    "for i, (_, sample) in enumerate(dataset[compareEnums(dataset[\"class\"], c)].sample(num_class_samples).iterrows()):\n",
    "    fig.add_trace(go.Scatter(y=sample[\"data\"]), row=1, col = i + 1)\n",
    "    fft = np.log10(np.abs(np.fft.fft(sample[\"data\"])))\n",
    "    fftfreq = np.fft.fftfreq(len(sample[\"data\"]), d=1.0/300.0)\n",
    "\n",
    "    fig.add_trace(go.Scatter(y=fft, x=fftfreq), row = 2, col = i + 1)\n",
    "\n",
    "fig.update_layout(height=1000)\n",
    "fig.show()"
   ]
  },
  {
   "cell_type": "markdown",
   "metadata": {},
   "source": [
    "## Plotting samples with their STFT below"
   ]
  },
  {
   "cell_type": "code",
   "execution_count": null,
   "metadata": {},
   "outputs": [],
   "source": [
    "c = DiagEnum.PoorQuality\n",
    "num_cols = 3\n",
    "num_rows = 2\n",
    "\n",
    "num_class_samples = num_cols\n",
    "fig = make_subplots(rows=num_rows, cols=num_cols)\n",
    "\n",
    "for i, (_, sample) in enumerate(dataset[compareEnums(dataset[\"class\"], c)].sample(num_class_samples).iterrows()):\n",
    "    fig.add_trace(go.Scatter(y=sample[\"data\"]), row=1, col = i + 1)\n",
    "\n",
    "    f_axis, t_axis, stft = signal.stft(sample[\"data\"], nperseg=256)\n",
    "    fig.add_trace(go.Heatmap(z=np.log10(np.abs(stft)), y=f_axis, x=t_axis), row = 2, col = i + 1)\n",
    "\n",
    "fig.update_layout(height=1000)\n",
    "fig.show()"
   ]
  },
  {
   "cell_type": "markdown",
   "metadata": {},
   "source": [
    "## Plotting samples from each class with their wavelet transform below\n",
    "\n",
    "These plots dont really work well and I so far have made no other use of wavelet transforms"
   ]
  },
  {
   "cell_type": "markdown",
   "metadata": {},
   "source": [
    "### First a Discrete wavelet transform (dont understand how this works)"
   ]
  },
  {
   "cell_type": "code",
   "execution_count": null,
   "metadata": {},
   "outputs": [],
   "source": [
    "phi, psi, x = pywt.Wavelet('sym4').wavefun(1)\n",
    "plt.plot(x, phi)\n",
    "plt.show()\n",
    "\n",
    "plt.plot(x, psi)\n",
    "plt.show()"
   ]
  },
  {
   "cell_type": "code",
   "execution_count": null,
   "metadata": {},
   "outputs": [],
   "source": [
    "c = \"~\"\n",
    "num_cols = 3\n",
    "num_rows = 2\n",
    "\n",
    "num_class_samples = num_cols\n",
    "fig = make_subplots(rows=num_rows, cols=num_cols)\n",
    "\n",
    "for i, (_, sample) in enumerate(dataset[dataset[\"class\"] == c].sample(num_class_samples).iterrows()):\n",
    "    fig.add_trace(go.Scatter(y=sample[\"data\"][0]), row=1, col = i + 1)\n",
    "    wavelets = np.array(pywt.wavedec(sample[\"data\"][0], 'sym4'))\n",
    "    for wavelet in wavelets:\n",
    "        print(wavelet.shape)\n",
    "        # The wavelets arent the same shape IDK how to use this!"
   ]
  },
  {
   "cell_type": "markdown",
   "metadata": {},
   "source": [
    "## Try a continuous wavelet transform from scipy"
   ]
  },
  {
   "cell_type": "code",
   "execution_count": null,
   "metadata": {},
   "outputs": [],
   "source": [
    "# Something feels off about this as well!\n",
    "\n",
    "c = \"N\"\n",
    "num_cols = 3\n",
    "num_rows = 2\n",
    "\n",
    "num_class_samples = num_cols\n",
    "fig = make_subplots(rows=num_rows, cols=num_cols)\n",
    "\n",
    "for i, (_, sample) in enumerate(dataset[dataset[\"class\"] == c].sample(num_class_samples).iterrows()):\n",
    "    fig.add_trace(go.Scatter(y=sample[\"data\"][0]), row=1, col = i + 1)\n",
    "    widths = np.linspace(1, 100, 20)\n",
    "    cwtmatr = signal.cwt(sample[\"data\"][0], signal.ricker, widths)\n",
    "    wavelets_sample = np.abs(cwtmatr)\n",
    "    print(wavelets_sample.shape)\n",
    "\n",
    "    fig.add_trace(go.Heatmap(z=wavelets_sample), row = 2, col = i + 1)\n",
    "\n",
    "fig.update_layout(height=1000)\n",
    "fig.show()"
   ]
  },
  {
   "cell_type": "markdown",
   "metadata": {},
   "source": [
    "### Check the performance of Zenicors system"
   ]
  },
  {
   "cell_type": "code",
   "execution_count": null,
   "metadata": {},
   "outputs": [],
   "source": [
    "from sklearn.metrics import confusion_matrix\n",
    "\n",
    "conf_mat = confusion_matrix(dataset[\"class_index\"], dataset[\"tag_orig_Poor_Quality\"])\n",
    "print(conf_mat)\n",
    "\n",
    "def F1_ind(conf_mat, ind):\n",
    "    return (2 * conf_mat[ind, ind])/(np.sum(conf_mat[ind]) + np.sum(conf_mat[:, ind]))\n",
    "\n",
    "print(f\"Sensitivity: {conf_mat[1, 1]/np.sum(conf_mat[1])}\")\n",
    "print(f\"Specificity: {conf_mat[0, 0]/np.sum(conf_mat[0])}\")\n",
    "\n",
    "print(f\"Normal F1: {F1_ind(conf_mat, 0)}\")\n",
    "print(f\"Noisy F1: {F1_ind(conf_mat, 1)}\")"
   ]
  },
  {
   "cell_type": "markdown",
   "metadata": {},
   "source": [
    "### The Noise Stress Test Database"
   ]
  },
  {
   "cell_type": "code",
   "execution_count": null,
   "metadata": {},
   "outputs": [],
   "source": [
    "dataset = pd.read_pickle(\"mit-bih-noise-stress-test-database/database.pk\")\n",
    "print(dataset[\"class\"].value_counts())"
   ]
  },
  {
   "cell_type": "code",
   "execution_count": null,
   "metadata": {},
   "outputs": [],
   "source": [
    "plot_ecg(dataset[dataset[\"class\"] == \"N\"][\"data\"].iloc[0][:3000])"
   ]
  },
  {
   "cell_type": "markdown",
   "metadata": {},
   "source": [
    "### NeuroKit analysis\n",
    "I dont know for sure what use this will be but it might be cool\n",
    "From a signal processing point of view this could also be useful to compare how certian things are done and what effect noise has on them"
   ]
  },
  {
   "cell_type": "code",
   "execution_count": null,
   "metadata": {},
   "outputs": [],
   "source": [
    "import neurokit2 as nk"
   ]
  },
  {
   "cell_type": "code",
   "execution_count": null,
   "metadata": {},
   "outputs": [],
   "source": [
    "ecgs = [nk.ecg_simulate(duration=10, heart_rate=70, sampling_rate=250, noise=0.1, random_state=i) for i in range(10)]\n",
    "\n",
    "fig = go.Figure()\n",
    "for ecg in ecgs:\n",
    "    fig.add_trace(go.Scatter(y=ecg))\n",
    "fig.show()"
   ]
  },
  {
   "cell_type": "code",
   "execution_count": null,
   "metadata": {},
   "outputs": [],
   "source": [
    "signals, info = nk.ecg_process(dataset[dataset[\"class\"] == \"N\"].iloc[100][\"data\"][0], sampling_rate=250)\n",
    "nk.ecg_plot(signals, sampling_rate=250)"
   ]
  },
  {
   "cell_type": "code",
   "execution_count": null,
   "metadata": {},
   "outputs": [],
   "source": [
    "peaks, info = nk.ecg_peaks(ecg, sampling_rate=250)\n",
    "print(peaks[peaks[\"ECG_R_Peaks\"] != 0])\n",
    "nk.hrv(peaks, sampling_rate=100, show=True)"
   ]
  },
  {
   "cell_type": "markdown",
   "metadata": {},
   "source": [
    "Simulate ECGs!"
   ]
  },
  {
   "cell_type": "code",
   "execution_count": null,
   "metadata": {},
   "outputs": [],
   "source": [
    "simulated_ecg = nk.ecg_simulate(duration=15, sampling_rate=300, heart_rate=70)\n",
    "plt.plot(simulated_ecg)"
   ]
  },
  {
   "cell_type": "markdown",
   "metadata": {},
   "source": [
    "### PCA Analysis"
   ]
  },
  {
   "cell_type": "code",
   "execution_count": null,
   "metadata": {},
   "outputs": [],
   "source": [
    "from sklearn.decomposition import PCA\n",
    "from ecgdetectors import Detectors"
   ]
  },
  {
   "cell_type": "code",
   "execution_count": null,
   "metadata": {},
   "outputs": [],
   "source": [
    "X = dataset[\"data\"].values"
   ]
  },
  {
   "cell_type": "code",
   "execution_count": null,
   "metadata": {},
   "outputs": [],
   "source": [
    "detectors = Detectors(300)\n",
    "\n",
    "beat_window = 300\n",
    "\n",
    "slices = []\n",
    "i = 0\n",
    "for _, series in dataset.iterrows():\n",
    "    print(f\"Processing ecg {i}/{len(dataset.index)}\\r\", end=\"\")\n",
    "    r_peaks = detectors.hamilton_detector(series[\"data\"])\n",
    "    windows = [(int(p-beat_window/2), int(p+beat_window/2)) for p in r_peaks]\n",
    "    padded_data = np.pad(series[\"data\"], beat_window, mode=\"reflect\")\n",
    "    slices.extend([padded_data[w[0]:w[1]] for w in windows])\n",
    "    i += 1"
   ]
  },
  {
   "cell_type": "code",
   "execution_count": null,
   "metadata": {},
   "outputs": [],
   "source": [
    "print(slices[0].shape[0])"
   ]
  },
  {
   "cell_type": "code",
   "execution_count": null,
   "metadata": {},
   "outputs": [],
   "source": [
    "slices = filter(lambda x: x.shape[0] == beat_window, slices)"
   ]
  },
  {
   "cell_type": "code",
   "execution_count": null,
   "metadata": {},
   "outputs": [],
   "source": [
    "slices = list(slices)\n",
    "print(len(slices))"
   ]
  },
  {
   "cell_type": "code",
   "execution_count": null,
   "metadata": {},
   "outputs": [],
   "source": [
    "X = np.stack(slices)\n",
    "\n",
    "pca = PCA(20)\n",
    "pca.fit(X)\n",
    "components = pca.components_\n",
    "print(components.shape)"
   ]
  },
  {
   "cell_type": "code",
   "execution_count": null,
   "metadata": {},
   "outputs": [],
   "source": [
    "num_rows = 5\n",
    "num_cols = 4\n",
    "\n",
    "num_class_samples = num_cols * num_rows\n",
    "fig = make_subplots(rows=num_rows, cols=num_cols)\n",
    "\n",
    "for i, comp in enumerate(components):\n",
    "    fig.add_trace(go.Scatter(y=comp), row= i//num_cols + 1, col = i%num_cols + 1)\n",
    "\n",
    "fig.update_layout(height=1000)\n",
    "fig.update_xaxes(title=\"sample number\")\n",
    "fig.update_yaxes(title=\"amplitude\")\n",
    "fig.show()"
   ]
  }
 ],
 "metadata": {
  "kernelspec": {
   "display_name": "Python 3",
   "language": "python",
   "name": "python3"
  },
  "language_info": {
   "codemirror_mode": {
    "name": "ipython",
    "version": 3
   },
   "file_extension": ".py",
   "mimetype": "text/x-python",
   "name": "python",
   "nbconvert_exporter": "python",
   "pygments_lexer": "ipython3",
   "version": "3.8.2"
  }
 },
 "nbformat": 4,
 "nbformat_minor": 1
}
