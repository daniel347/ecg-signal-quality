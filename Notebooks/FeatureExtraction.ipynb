{
 "cells": [
  {
   "cell_type": "code",
   "execution_count": null,
   "metadata": {
    "collapsed": true
   },
   "outputs": [],
   "source": [
    "import scipy.io\n",
    "import matplotlib.pyplot as plt\n",
    "import numpy as np\n",
    "import pandas as pd\n",
    "import os\n",
    "import scipy.stats\n",
    "\n",
    "import plotly.graph_objects as go\n",
    "from plotly.subplots import make_subplots"
   ]
  },
  {
   "cell_type": "code",
   "execution_count": null,
   "outputs": [],
   "source": [
    "# Start by loading the data\n",
    "\n",
    "training_path = \"CinC2017Data/training2017/training2017/\"\n",
    "answers_path = \"CinC2017Data/REFERENCE-v3.csv\"\n",
    "\n",
    "dataset = pd.read_csv(answers_path, header=None, names=[\"class\"], index_col=0)\n",
    "dataset[\"data\"] = None\n",
    "\n",
    "print(dataset.head())\n",
    "\n",
    "for root, dirs, files in os.walk(training_path):\n",
    "    for name in files:\n",
    "        try:\n",
    "            name, ext = name.split(\".\")\n",
    "        except ValueError:\n",
    "            print(\"error, scipping file\")\n",
    "            continue\n",
    "        if ext == \"mat\":\n",
    "            mat_data = scipy.io.loadmat(os.path.join(root, name+\".\"+ext))\n",
    "            dataset.loc[name][\"data\"] = mat_data[\"val\"]\n",
    "            print(f\"Adding {name}\\r\", end=\"\")\n",
    "\n",
    "print(dataset.head())\n",
    "pk_path = \"CinC2017Data/database.pk\"\n",
    "dataset.to_pickle(pk_path)"
   ],
   "metadata": {
    "collapsed": false
   }
  },
  {
   "cell_type": "code",
   "execution_count": null,
   "outputs": [],
   "source": [
    "dataset = pd.read_pickle(\"CinC2017Data/database.pk\")"
   ],
   "metadata": {
    "collapsed": false
   }
  },
  {
   "cell_type": "code",
   "execution_count": null,
   "outputs": [],
   "source": [
    "from sklearn.model_selection import train_test_split\n",
    "from sklearn.metrics import ConfusionMatrixDisplay, confusion_matrix"
   ],
   "metadata": {
    "collapsed": false
   }
  },
  {
   "cell_type": "code",
   "execution_count": null,
   "outputs": [],
   "source": [
    "def get_power_ratios(data):\n",
    "    N = data.shape[-1]\n",
    "    fft = np.fft.fft(data[0])\n",
    "    fftfreq = np.fft.fftfreq(data.shape[-1], 1/300.0)\n",
    "\n",
    "    fft_low_freq = fft[fftfreq < 5]\n",
    "    fft_med_freq = fft[np.logical_and(fftfreq > 5, fftfreq < 40)]\n",
    "    fft_high_freq = fft[fftfreq > 40]\n",
    "\n",
    "    total_power = 1/N * np.sum(np.abs(fft) ** 2)\n",
    "\n",
    "    return np.array([((1/f.shape[0]) * np.sum(np.abs(f) ** 2))/total_power for f in (fft_low_freq, fft_med_freq, fft_high_freq)])\n",
    "\n",
    "dataset[\"mean\"] = dataset[\"data\"].map(np.mean)\n",
    "dataset[\"std_dev\"] = dataset[\"data\"].map(np.std)\n",
    "dataset[\"skewness\"] = dataset[\"data\"].map(lambda x: scipy.stats.skew(x[0], axis = -1))\n",
    "dataset[\"kurtosis\"] = dataset[\"data\"].map(lambda x: scipy.stats.kurtosis(x[0], axis = -1))\n",
    "dataset[\"low_freq_power\"] = dataset[\"data\"].map(lambda x: get_power_ratios(x)[0])\n",
    "dataset[\"med_freq_power\"] = dataset[\"data\"].map(lambda x: get_power_ratios(x)[1])\n",
    "dataset[\"high_freq_power\"] = dataset[\"data\"].map(lambda x: get_power_ratios(x)[2])"
   ],
   "metadata": {
    "collapsed": false
   }
  },
  {
   "cell_type": "code",
   "execution_count": null,
   "outputs": [],
   "source": [
    "dataset.groupby(\"class\").mean()"
   ],
   "metadata": {
    "collapsed": false
   }
  },
  {
   "cell_type": "code",
   "execution_count": null,
   "outputs": [],
   "source": [
    "very_clean = dataset[(dataset[\"class\"] == \"N\") & (dataset[\"skewness\"] >= 1) & (dataset[\"high_freq_power\"] <= 0.001) & (dataset[\"std_dev\"] <= 200)]\n",
    "print(len(very_clean.index))"
   ],
   "metadata": {
    "collapsed": false
   }
  },
  {
   "cell_type": "code",
   "execution_count": null,
   "outputs": [],
   "source": [
    "plt.plot(very_clean.iloc[192][\"data\"][0])\n",
    "plt.show()"
   ],
   "metadata": {
    "collapsed": false
   }
  },
  {
   "cell_type": "code",
   "execution_count": null,
   "outputs": [],
   "source": [
    "very_noisy = dataset[(dataset[\"class\"] == \"~\") & (dataset[\"skewness\"] <= 0.1) & (dataset[\"std_dev\"] >= 400)]\n",
    "print(len(very_noisy.index))"
   ],
   "metadata": {
    "collapsed": false
   }
  },
  {
   "cell_type": "code",
   "execution_count": null,
   "outputs": [],
   "source": [
    "plt.plot(very_noisy.iloc[3][\"data\"][0])\n",
    "plt.show()"
   ],
   "metadata": {
    "collapsed": false
   }
  },
  {
   "cell_type": "code",
   "execution_count": null,
   "outputs": [],
   "source": [
    "c = \"N\"\n",
    "\n",
    "num_rows = 1\n",
    "num_cols = 1\n",
    "\n",
    "num_class_samples = num_cols * num_rows\n",
    "fig = make_subplots(rows=num_rows, cols=num_cols)\n",
    "\n",
    "for i, (_, sample) in enumerate(very_clean[very_clean[\"class\"] == c].sample(num_class_samples).iterrows()):\n",
    "    fig.add_trace(go.Scatter(y=sample[\"data\"][0]), row=i%num_cols + 1, col = i//num_rows + 1)\n",
    "\n",
    "fig.update_layout(height=1000)\n",
    "fig.update_xaxes(title=\"sample number\")\n",
    "fig.update_yaxes(title=\"amplitude\")\n",
    "fig.show()"
   ],
   "metadata": {
    "collapsed": false
   }
  },
  {
   "cell_type": "code",
   "execution_count": null,
   "outputs": [],
   "source": [
    "def generate_index(c):\n",
    "    if c == \"N\":\n",
    "        return 0\n",
    "    if c == \"O\":\n",
    "        return 1\n",
    "    if c == \"A\":\n",
    "        return 2\n",
    "    if c == \"~\":\n",
    "        return 3\n",
    "\n",
    "# dataset[\"onehot\"] = dataset[\"class\"].map(generate_onehot)\n",
    "dataset[\"class_index\"] = dataset[\"class\"].map(generate_index)"
   ],
   "metadata": {
    "collapsed": false
   }
  },
  {
   "cell_type": "code",
   "execution_count": null,
   "outputs": [],
   "source": [
    "# Compare the power ranges\n",
    "\n",
    "scatter = plt.scatter(dataset[\"low_freq_power\"], np.log(dataset[\"high_freq_power\"]), c=dataset[\"class_index\"], cmap=\"viridis\")\n",
    "plt.colorbar(scatter)\n",
    "plt.show()"
   ],
   "metadata": {
    "collapsed": false
   }
  }
 ],
 "metadata": {
  "kernelspec": {
   "display_name": "Python 3",
   "language": "python",
   "name": "python3"
  },
  "language_info": {
   "codemirror_mode": {
    "name": "ipython",
    "version": 2
   },
   "file_extension": ".py",
   "mimetype": "text/x-python",
   "name": "python",
   "nbconvert_exporter": "python",
   "pygments_lexer": "ipython2",
   "version": "2.7.6"
  }
 },
 "nbformat": 4,
 "nbformat_minor": 0
}
