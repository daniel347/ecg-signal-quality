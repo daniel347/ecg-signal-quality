{
 "cells": [
  {
   "cell_type": "code",
   "execution_count": 1,
   "metadata": {
    "ExecuteTime": {
     "end_time": "2024-04-10T15:30:38.173252100Z",
     "start_time": "2024-04-10T15:30:22.729467600Z"
    }
   },
   "outputs": [],
   "source": [
    "import enum\n",
    "import os\n",
    "import matplotlib.pyplot as plt\n",
    "import numpy as np\n",
    "import pandas as pd\n",
    "import plotly.graph_objects as go\n",
    "from plotly.subplots import make_subplots\n",
    "import matplotlib\n",
    "import sys\n",
    "matplotlib.use('TkAgg')\n",
    "\n",
    "sys.path.append(\"..\")\n",
    "\n",
    "from DataHandlers.DiagEnum import DiagEnum, feas1DiagToEnum\n",
    "from DataHandlers.SAFERDatasetV2 import SaferDataset\n",
    "from Utilities.Plotting import plot_ecg"
   ]
  },
  {
   "cell_type": "code",
   "execution_count": 2,
   "metadata": {},
   "outputs": [],
   "source": [
    "import importlib\n",
    "import DataHandlers.SAFERDatasetV2\n",
    "importlib.reload(DataHandlers.SAFERDatasetV2)\n",
    "from DataHandlers.SAFERDatasetV2 import SaferDataset"
   ]
  },
  {
   "cell_type": "code",
   "execution_count": null,
   "metadata": {},
   "outputs": [],
   "source": [
    "def filter_ecgs(pt, ecg):\n",
    "    ecg_new = ecg[ecg.length == 9120]\n",
    "    ecg_new = ecg_new[ecg_new.measDiag != DiagEnum.Undecided]\n",
    "    ecg_new = ecg_new[ecg_new.measDiagAgree |\n",
    "                      (ecg_new.measDiagRev1 == DiagEnum.Undecided) |\n",
    "                      (ecg_new.measDiagRev2 == DiagEnum.Undecided)]\n",
    "    pt_new = pt[pt.ptID.isin(ecg_new.ptID)]\n",
    "\n",
    "    return pt_new, ecg_new\n",
    "\n",
    "dataset = SaferDataset(feas=3, label_gen=lambda x: x, filter_func=filter_ecgs)"
   ]
  },
  {
   "cell_type": "code",
   "execution_count": null,
   "metadata": {},
   "outputs": [],
   "source": [
    "for ecg, diag, ind in dataset:\n",
    "    print(diag)\n",
    "    plot_ecg(ecg, n_split=3)\n",
    "    plt.show()"
   ]
  },
  {
   "cell_type": "code",
   "execution_count": null,
   "metadata": {},
   "outputs": [],
   "source": [
    "len(dataset) # missing 5 AF cases?"
   ]
  }
 ],
 "metadata": {
  "kernelspec": {
   "display_name": "Python 3",
   "language": "python",
   "name": "python3"
  },
  "language_info": {
   "codemirror_mode": {
    "name": "ipython",
    "version": 3
   },
   "file_extension": ".py",
   "mimetype": "text/x-python",
   "name": "python",
   "nbconvert_exporter": "python",
   "pygments_lexer": "ipython3",
   "version": "3.8.2"
  }
 },
 "nbformat": 4,
 "nbformat_minor": 1
}
