{
 "cells": [
  {
   "cell_type": "code",
   "execution_count": 5,
   "metadata": {
    "ExecuteTime": {
     "end_time": "2024-04-10T15:30:38.173252100Z",
     "start_time": "2024-04-10T15:30:22.729467600Z"
    }
   },
   "outputs": [],
   "source": [
    "import enum\n",
    "import os\n",
    "import matplotlib.pyplot as plt\n",
    "import numpy as np\n",
    "import pandas as pd\n",
    "import plotly.graph_objects as go\n",
    "from plotly.subplots import make_subplots\n",
    "import matplotlib\n",
    "import sys\n",
    "matplotlib.use('TkAgg')\n",
    "\n",
    "sys.path.append(\"..\")\n",
    "\n",
    "from DataHandlers.DiagEnum import DiagEnum, feas1DiagToEnum\n",
    "from DataHandlers.SAFERDatasetV2 import SaferDataset\n",
    "from Utilities.Plotting import plot_ecg"
   ]
  },
  {
   "cell_type": "code",
   "execution_count": 6,
   "metadata": {},
   "outputs": [],
   "source": [
    "import importlib\n",
    "import DataHandlers.SAFERDatasetV2\n",
    "importlib.reload(DataHandlers.SAFERDatasetV2)\n",
    "from DataHandlers.SAFERDatasetV2 import SaferDataset"
   ]
  },
  {
   "cell_type": "code",
   "execution_count": 7,
   "metadata": {},
   "outputs": [
    {
     "name": "stdout",
     "output_type": "stream",
     "text": [
      "Diags before filter: DiagEnum.NoAF                         49334\n",
      "DiagEnum.PoorQuality                  19154\n",
      "DiagEnum.AF                            2387\n",
      "DiagEnum.CannotExcludePathology         310\n",
      "DiagEnum.OtherSignificantArrythmia      213\n",
      "Name: measDiag, dtype: int64\n",
      "Diags after filter: DiagEnum.NoAF                         49334\n",
      "DiagEnum.PoorQuality                  19154\n",
      "DiagEnum.AF                            2387\n",
      "DiagEnum.CannotExcludePathology         310\n",
      "DiagEnum.OtherSignificantArrythmia      213\n",
      "Name: measDiag, dtype: int64\n"
     ]
    }
   ],
   "source": [
    "def filter_ecgs(pt, ecg):\n",
    "    ecg_new = ecg[ecg.length == 9120]\n",
    "    ecg_new = ecg_new[ecg_new.measDiag != DiagEnum.Undecided]\n",
    "    ecg_new = ecg_new[ecg_new.measDiagAgree |\n",
    "                      (ecg_new.measDiagRev1 == DiagEnum.Undecided) |\n",
    "                      (ecg_new.measDiagRev2 == DiagEnum.Undecided)]\n",
    "    pt_new = pt[pt.ptID.isin(ecg_new.ptID)]\n",
    "\n",
    "    return pt_new, ecg_new\n",
    "\n",
    "sys.path.append(\".\")\n",
    "dataset = SaferDataset(feas=3, label_gen=lambda x: x, filter_func=filter_ecgs)"
   ]
  },
  {
   "cell_type": "code",
   "execution_count": 8,
   "metadata": {},
   "outputs": [
    {
     "name": "stdout",
     "output_type": "stream",
     "text": [
      "DiagEnum.PoorQuality\n",
      "DiagEnum.PoorQuality\n",
      "DiagEnum.PoorQuality\n",
      "DiagEnum.PoorQuality\n",
      "DiagEnum.PoorQuality\n",
      "DiagEnum.PoorQuality\n",
      "DiagEnum.PoorQuality\n",
      "DiagEnum.NoAF\n",
      "DiagEnum.NoAF\n",
      "DiagEnum.PoorQuality\n",
      "DiagEnum.PoorQuality\n",
      "DiagEnum.PoorQuality\n",
      "DiagEnum.NoAF\n",
      "DiagEnum.NoAF\n",
      "DiagEnum.NoAF\n",
      "DiagEnum.NoAF\n",
      "DiagEnum.NoAF\n",
      "DiagEnum.NoAF\n",
      "DiagEnum.NoAF\n",
      "DiagEnum.NoAF\n",
      "DiagEnum.NoAF\n",
      "DiagEnum.NoAF\n",
      "DiagEnum.NoAF\n",
      "DiagEnum.NoAF\n",
      "DiagEnum.NoAF\n",
      "DiagEnum.NoAF\n",
      "DiagEnum.PoorQuality\n",
      "DiagEnum.NoAF\n",
      "DiagEnum.NoAF\n",
      "DiagEnum.NoAF\n",
      "DiagEnum.NoAF\n",
      "DiagEnum.NoAF\n",
      "DiagEnum.NoAF\n",
      "DiagEnum.NoAF\n",
      "DiagEnum.PoorQuality\n",
      "DiagEnum.PoorQuality\n",
      "DiagEnum.NoAF\n",
      "DiagEnum.NoAF\n",
      "DiagEnum.NoAF\n",
      "DiagEnum.PoorQuality\n",
      "DiagEnum.PoorQuality\n",
      "DiagEnum.PoorQuality\n"
     ]
    },
    {
     "name": "stderr",
     "output_type": "stream",
     "text": [
      "Exception ignored in: <function PhotoImage.__del__ at 0x00000278CA401240>\n",
      "Traceback (most recent call last):\n",
      "  File \"C:\\Users\\daniel\\Documents\\CambridgeSoftwareProjects\\ecg-signal-quality\\projectEnv\\lib\\site-packages\\PIL\\ImageTk.py\", line 149, in __del__\n",
      "    self.__photo.tk.call(\"image\", \"delete\", name)\n",
      "KeyboardInterrupt: \n"
     ]
    },
    {
     "ename": "KeyboardInterrupt",
     "evalue": "",
     "output_type": "error",
     "traceback": [
      "\u001b[1;31m---------------------------------------------------------------------------\u001b[0m",
      "\u001b[1;31mKeyboardInterrupt\u001b[0m                         Traceback (most recent call last)",
      "Cell \u001b[1;32mIn [8], line 4\u001b[0m\n\u001b[0;32m      2\u001b[0m \u001b[38;5;28mprint\u001b[39m(diag)\n\u001b[0;32m      3\u001b[0m plot_ecg(ecg, n_split\u001b[38;5;241m=\u001b[39m\u001b[38;5;241m3\u001b[39m)\n\u001b[1;32m----> 4\u001b[0m \u001b[43mplt\u001b[49m\u001b[38;5;241;43m.\u001b[39;49m\u001b[43mshow\u001b[49m\u001b[43m(\u001b[49m\u001b[43m)\u001b[49m\n",
      "File \u001b[1;32m~\\Documents\\CambridgeSoftwareProjects\\ecg-signal-quality\\projectEnv\\lib\\site-packages\\matplotlib\\pyplot.py:409\u001b[0m, in \u001b[0;36mshow\u001b[1;34m(*args, **kwargs)\u001b[0m\n\u001b[0;32m    365\u001b[0m \u001b[38;5;124;03m\"\"\"\u001b[39;00m\n\u001b[0;32m    366\u001b[0m \u001b[38;5;124;03mDisplay all open figures.\u001b[39;00m\n\u001b[0;32m    367\u001b[0m \n\u001b[1;32m   (...)\u001b[0m\n\u001b[0;32m    406\u001b[0m \u001b[38;5;124;03mexplicitly there.\u001b[39;00m\n\u001b[0;32m    407\u001b[0m \u001b[38;5;124;03m\"\"\"\u001b[39;00m\n\u001b[0;32m    408\u001b[0m _warn_if_gui_out_of_main_thread()\n\u001b[1;32m--> 409\u001b[0m \u001b[38;5;28;01mreturn\u001b[39;00m _get_backend_mod()\u001b[38;5;241m.\u001b[39mshow(\u001b[38;5;241m*\u001b[39margs, \u001b[38;5;241m*\u001b[39m\u001b[38;5;241m*\u001b[39mkwargs)\n",
      "File \u001b[1;32m~\\Documents\\CambridgeSoftwareProjects\\ecg-signal-quality\\projectEnv\\lib\\site-packages\\matplotlib\\backend_bases.py:3546\u001b[0m, in \u001b[0;36m_Backend.show\u001b[1;34m(cls, block)\u001b[0m\n\u001b[0;32m   3544\u001b[0m     block \u001b[38;5;241m=\u001b[39m \u001b[38;5;129;01mnot\u001b[39;00m ipython_pylab \u001b[38;5;129;01mand\u001b[39;00m \u001b[38;5;129;01mnot\u001b[39;00m is_interactive()\n\u001b[0;32m   3545\u001b[0m \u001b[38;5;28;01mif\u001b[39;00m block:\n\u001b[1;32m-> 3546\u001b[0m     \u001b[38;5;28;43mcls\u001b[39;49m\u001b[38;5;241;43m.\u001b[39;49m\u001b[43mmainloop\u001b[49m\u001b[43m(\u001b[49m\u001b[43m)\u001b[49m\n",
      "File \u001b[1;32m~\\Documents\\CambridgeSoftwareProjects\\ecg-signal-quality\\projectEnv\\lib\\site-packages\\matplotlib\\backends\\_backend_tk.py:1032\u001b[0m, in \u001b[0;36m_BackendTk.mainloop\u001b[1;34m()\u001b[0m\n\u001b[0;32m   1030\u001b[0m manager_class\u001b[38;5;241m.\u001b[39m_owns_mainloop \u001b[38;5;241m=\u001b[39m \u001b[38;5;28;01mTrue\u001b[39;00m\n\u001b[0;32m   1031\u001b[0m \u001b[38;5;28;01mtry\u001b[39;00m:\n\u001b[1;32m-> 1032\u001b[0m     \u001b[43mfirst_manager\u001b[49m\u001b[38;5;241;43m.\u001b[39;49m\u001b[43mwindow\u001b[49m\u001b[38;5;241;43m.\u001b[39;49m\u001b[43mmainloop\u001b[49m\u001b[43m(\u001b[49m\u001b[43m)\u001b[49m\n\u001b[0;32m   1033\u001b[0m \u001b[38;5;28;01mfinally\u001b[39;00m:\n\u001b[0;32m   1034\u001b[0m     manager_class\u001b[38;5;241m.\u001b[39m_owns_mainloop \u001b[38;5;241m=\u001b[39m \u001b[38;5;28;01mFalse\u001b[39;00m\n",
      "File \u001b[1;32m~\\AppData\\Local\\Programs\\Python\\Python310\\lib\\tkinter\\__init__.py:1458\u001b[0m, in \u001b[0;36mMisc.mainloop\u001b[1;34m(self, n)\u001b[0m\n\u001b[0;32m   1456\u001b[0m \u001b[38;5;28;01mdef\u001b[39;00m \u001b[38;5;21mmainloop\u001b[39m(\u001b[38;5;28mself\u001b[39m, n\u001b[38;5;241m=\u001b[39m\u001b[38;5;241m0\u001b[39m):\n\u001b[0;32m   1457\u001b[0m     \u001b[38;5;124;03m\"\"\"Call the mainloop of Tk.\"\"\"\u001b[39;00m\n\u001b[1;32m-> 1458\u001b[0m     \u001b[38;5;28;43mself\u001b[39;49m\u001b[38;5;241;43m.\u001b[39;49m\u001b[43mtk\u001b[49m\u001b[38;5;241;43m.\u001b[39;49m\u001b[43mmainloop\u001b[49m\u001b[43m(\u001b[49m\u001b[43mn\u001b[49m\u001b[43m)\u001b[49m\n",
      "\u001b[1;31mKeyboardInterrupt\u001b[0m: "
     ]
    }
   ],
   "source": [
    "for ecg, diag, ind in dataset:\n",
    "    print(diag)\n",
    "    plot_ecg(ecg, n_split=3)\n",
    "    plt.show()"
   ]
  },
  {
   "cell_type": "code",
   "execution_count": null,
   "metadata": {},
   "outputs": [],
   "source": [
    "len(dataset) # missing 5 AF cases?"
   ]
  }
 ],
 "metadata": {
  "kernelspec": {
   "display_name": "Python 3 (ipykernel)",
   "language": "python",
   "name": "python3"
  },
  "language_info": {
   "codemirror_mode": {
    "name": "ipython",
    "version": 3
   },
   "file_extension": ".py",
   "mimetype": "text/x-python",
   "name": "python",
   "nbconvert_exporter": "python",
   "pygments_lexer": "ipython3",
   "version": "3.10.4"
  }
 },
 "nbformat": 4,
 "nbformat_minor": 1
}
