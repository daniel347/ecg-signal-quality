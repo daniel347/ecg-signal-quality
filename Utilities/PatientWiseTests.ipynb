{
 "cells": [
  {
   "cell_type": "code",
   "execution_count": 2,
   "outputs": [],
   "source": [
    "import matplotlib.pyplot as plt\n",
    "import plotly.graph_objects as go\n",
    "\n",
    "import numpy as np\n",
    "import pandas as pd\n",
    "\n",
    "import sys\n",
    "import os\n",
    "\n",
    "import scipy.signal\n",
    "from ecgdetectors import Detectors\n",
    "\n",
    "import math\n",
    "from DataHandlers.DiagEnum import DiagEnum\n",
    "import DataHandlers.DiagEnum\n",
    "import DataHandlers.SAFERDataset as SAFERDataset\n",
    "import DataHandlers.CinC2020Dataset as CinC2020Dataset\n",
    "import DataHandlers.CinC2020Enums\n",
    "import importlib\n",
    "import DataHandlers.CinCDataset as CinCDataset\n",
    "import DataHandlers.DataAugmentations as DataAugmentations\n",
    "from multiprocesspandas import applyparallel\n",
    "importlib.reload(SAFERDataset)\n",
    "importlib.reload(CinC2020Dataset)\n",
    "\n",
    "import DataHandlers.DataProcessUtilities\n",
    "importlib.reload(DataHandlers.DataProcessUtilities)\n",
    "from DataHandlers.DataProcessUtilities import *\n",
    "import Utilities.Plotting\n",
    "importlib.reload(Utilities.Plotting)\n",
    "from Utilities.Plotting import *\n",
    "\n",
    "# A fudge because I moved the files\n",
    "sys.modules[\"SAFERDataset\"] = SAFERDataset\n",
    "sys.modules[\"CinC2020Dataset\"] = CinC2020Dataset\n",
    "sys.modules[\"DiagEnum\"] = DataHandlers.DiagEnum\n",
    "sys.modules[\"CinC2020Enums\"] = DataHandlers.CinC2020Enums\n",
    "sys.modules[\"CinCDataset\"] = CinCDataset"
   ],
   "metadata": {
    "collapsed": false
   }
  },
  {
   "cell_type": "code",
   "execution_count": 5,
   "outputs": [],
   "source": [
    "def prepare_safer_data(pt_data, ecg_data):\n",
    "    if \"length\" in ecg_data:\n",
    "        ecg_data = ecg_data[ecg_data[\"length\"] == 9120]\n",
    "\n",
    "    ecg_data = ecg_data[ecg_data[\"measDiag\"] != DiagEnum.PoorQuality]\n",
    "    # ecg_data = ecg_data[ecg_data[\"tag_orig_Poor_Quality\"] == 0]\n",
    "\n",
    "    ecg_data = ecg_data[ecg_data[\"rri_len\"] > 5]\n",
    "\n",
    "\n",
    "    pt_data.index = pt_data[\"ptID\"]\n",
    "    ecg_data_new = SAFERDataset.generate_af_class_labels(ecg_data)\n",
    "    pt_data = SAFERDataset.add_ecg_class_counts(pt_data, ecg_data)\n",
    "\n",
    "    return pt_data, ecg_data_new\n",
    "\n",
    "pt_data = SAFERDataset.load_pt_dataset(1)\n",
    "ecg_data = SAFERDataset.load_ecg_csv(1, pt_data, ecg_range=None, ecg_meas_diag=None, feas2_offset=10000, feas2_ecg_offset=200000)\n",
    "\n",
    "ecg_data[\"feas\"] = 1\n",
    "ecg_data[\"length\"] = 9120\n",
    "ecg_data[\"rri_len\"] = 20\n",
    "\n",
    "pt_data, ecg_data_new = prepare_safer_data(pt_data, ecg_data)\n",
    "# train_pts, test_pts, val_pts = generate_patient_splits(pt_data, 0.15, 0.15)"
   ],
   "metadata": {
    "collapsed": false
   }
  },
  {
   "cell_type": "code",
   "execution_count": 8,
   "outputs": [
    {
     "data": {
      "text/plain": "        ptID   age       ptDiag                       ptDiagRev1  \\\nmeasID                                                             \n1437      17  76.0  DiagEnum.AF                      DiagEnum.AF   \n1464      17  76.0  DiagEnum.AF                      DiagEnum.AF   \n2770      35  72.0  DiagEnum.AF  DiagEnum.CannotExcludePathology   \n2773      35  72.0  DiagEnum.AF  DiagEnum.CannotExcludePathology   \n2776      35  72.0  DiagEnum.AF  DiagEnum.CannotExcludePathology   \n...      ...   ...          ...                              ...   \n162089  2134  68.0  DiagEnum.AF                      DiagEnum.AF   \n162090  2134  68.0  DiagEnum.AF                      DiagEnum.AF   \n162091  2134  68.0  DiagEnum.AF                      DiagEnum.AF   \n162093  2134  68.0  DiagEnum.AF                      DiagEnum.AF   \n162094  2134  68.0  DiagEnum.AF                      DiagEnum.AF   \n\n           ptDiagRev2   ptDiagRev3  cardRev            measDiag  \\\nmeasID                                                            \n1437      DiagEnum.AF  DiagEnum.AF        1  DiagEnum.Undecided   \n1464      DiagEnum.AF  DiagEnum.AF        1         DiagEnum.AF   \n2770    DiagEnum.NoAF  DiagEnum.AF        1  DiagEnum.Undecided   \n2773    DiagEnum.NoAF  DiagEnum.AF        1  DiagEnum.Undecided   \n2776    DiagEnum.NoAF  DiagEnum.AF        1  DiagEnum.Undecided   \n...               ...          ...      ...                 ...   \n162089    DiagEnum.AF  DiagEnum.AF        1  DiagEnum.Undecided   \n162090    DiagEnum.AF  DiagEnum.AF        1  DiagEnum.Undecided   \n162091    DiagEnum.AF  DiagEnum.AF        1  DiagEnum.Undecided   \n162093    DiagEnum.AF  DiagEnum.AF        1  DiagEnum.Undecided   \n162094    DiagEnum.AF  DiagEnum.AF        1  DiagEnum.Undecided   \n\n              measDiagRev1        measDiagRev2  ...  unlikelyAF perhapsAF  \\\nmeasID                                          ...                         \n1437    DiagEnum.Undecided  DiagEnum.Undecided  ...           0         1   \n1464         DiagEnum.NoAF         DiagEnum.AF  ...           0         1   \n2770    DiagEnum.Undecided  DiagEnum.Undecided  ...           0         1   \n2773    DiagEnum.Undecided  DiagEnum.Undecided  ...           0         1   \n2776    DiagEnum.Undecided  DiagEnum.Undecided  ...           0         1   \n...                    ...                 ...  ...         ...       ...   \n162089  DiagEnum.Undecided  DiagEnum.Undecided  ...           0         1   \n162090  DiagEnum.Undecided  DiagEnum.Undecided  ...           0         1   \n162091  DiagEnum.Undecided  DiagEnum.Undecided  ...           0         1   \n162093  DiagEnum.Undecided  DiagEnum.Undecided  ...           0         1   \n162094  DiagEnum.Undecided  DiagEnum.Undecided  ...           0         1   \n\n        measID  data  adc_gain                   file_path  class_index  \\\nmeasID                                                                    \n1437      1437  None      None  ECGs/001000/saferF1_001437            0   \n1464      1464  None      None  ECGs/001000/saferF1_001464            0   \n2770      2770  None      None  ECGs/002000/saferF1_002770            0   \n2773      2773  None      None  ECGs/002000/saferF1_002773            0   \n2776      2776  None      None  ECGs/002000/saferF1_002776            0   \n...        ...   ...       ...                         ...          ...   \n162089  162089  None      None  ECGs/162000/saferF1_162089            0   \n162090  162090  None      None  ECGs/162000/saferF1_162090            0   \n162091  162091  None      None  ECGs/162000/saferF1_162091            0   \n162093  162093  None      None  ECGs/162000/saferF1_162093            0   \n162094  162094  None      None  ECGs/162000/saferF1_162094            0   \n\n        length  feas  rri_len  \nmeasID                         \n1437      9120     1       20  \n1464      9120     1       20  \n2770      9120     1       20  \n2773      9120     1       20  \n2776      9120     1       20  \n...        ...   ...      ...  \n162089    9120     1       20  \n162090    9120     1       20  \n162091    9120     1       20  \n162093    9120     1       20  \n162094    9120     1       20  \n\n[977 rows x 51 columns]",
      "text/html": "<div>\n<style scoped>\n    .dataframe tbody tr th:only-of-type {\n        vertical-align: middle;\n    }\n\n    .dataframe tbody tr th {\n        vertical-align: top;\n    }\n\n    .dataframe thead th {\n        text-align: right;\n    }\n</style>\n<table border=\"1\" class=\"dataframe\">\n  <thead>\n    <tr style=\"text-align: right;\">\n      <th></th>\n      <th>ptID</th>\n      <th>age</th>\n      <th>ptDiag</th>\n      <th>ptDiagRev1</th>\n      <th>ptDiagRev2</th>\n      <th>ptDiagRev3</th>\n      <th>cardRev</th>\n      <th>measDiag</th>\n      <th>measDiagRev1</th>\n      <th>measDiagRev2</th>\n      <th>...</th>\n      <th>unlikelyAF</th>\n      <th>perhapsAF</th>\n      <th>measID</th>\n      <th>data</th>\n      <th>adc_gain</th>\n      <th>file_path</th>\n      <th>class_index</th>\n      <th>length</th>\n      <th>feas</th>\n      <th>rri_len</th>\n    </tr>\n    <tr>\n      <th>measID</th>\n      <th></th>\n      <th></th>\n      <th></th>\n      <th></th>\n      <th></th>\n      <th></th>\n      <th></th>\n      <th></th>\n      <th></th>\n      <th></th>\n      <th></th>\n      <th></th>\n      <th></th>\n      <th></th>\n      <th></th>\n      <th></th>\n      <th></th>\n      <th></th>\n      <th></th>\n      <th></th>\n      <th></th>\n    </tr>\n  </thead>\n  <tbody>\n    <tr>\n      <th>1437</th>\n      <td>17</td>\n      <td>76.0</td>\n      <td>DiagEnum.AF</td>\n      <td>DiagEnum.AF</td>\n      <td>DiagEnum.AF</td>\n      <td>DiagEnum.AF</td>\n      <td>1</td>\n      <td>DiagEnum.Undecided</td>\n      <td>DiagEnum.Undecided</td>\n      <td>DiagEnum.Undecided</td>\n      <td>...</td>\n      <td>0</td>\n      <td>1</td>\n      <td>1437</td>\n      <td>None</td>\n      <td>None</td>\n      <td>ECGs/001000/saferF1_001437</td>\n      <td>0</td>\n      <td>9120</td>\n      <td>1</td>\n      <td>20</td>\n    </tr>\n    <tr>\n      <th>1464</th>\n      <td>17</td>\n      <td>76.0</td>\n      <td>DiagEnum.AF</td>\n      <td>DiagEnum.AF</td>\n      <td>DiagEnum.AF</td>\n      <td>DiagEnum.AF</td>\n      <td>1</td>\n      <td>DiagEnum.AF</td>\n      <td>DiagEnum.NoAF</td>\n      <td>DiagEnum.AF</td>\n      <td>...</td>\n      <td>0</td>\n      <td>1</td>\n      <td>1464</td>\n      <td>None</td>\n      <td>None</td>\n      <td>ECGs/001000/saferF1_001464</td>\n      <td>0</td>\n      <td>9120</td>\n      <td>1</td>\n      <td>20</td>\n    </tr>\n    <tr>\n      <th>2770</th>\n      <td>35</td>\n      <td>72.0</td>\n      <td>DiagEnum.AF</td>\n      <td>DiagEnum.CannotExcludePathology</td>\n      <td>DiagEnum.NoAF</td>\n      <td>DiagEnum.AF</td>\n      <td>1</td>\n      <td>DiagEnum.Undecided</td>\n      <td>DiagEnum.Undecided</td>\n      <td>DiagEnum.Undecided</td>\n      <td>...</td>\n      <td>0</td>\n      <td>1</td>\n      <td>2770</td>\n      <td>None</td>\n      <td>None</td>\n      <td>ECGs/002000/saferF1_002770</td>\n      <td>0</td>\n      <td>9120</td>\n      <td>1</td>\n      <td>20</td>\n    </tr>\n    <tr>\n      <th>2773</th>\n      <td>35</td>\n      <td>72.0</td>\n      <td>DiagEnum.AF</td>\n      <td>DiagEnum.CannotExcludePathology</td>\n      <td>DiagEnum.NoAF</td>\n      <td>DiagEnum.AF</td>\n      <td>1</td>\n      <td>DiagEnum.Undecided</td>\n      <td>DiagEnum.Undecided</td>\n      <td>DiagEnum.Undecided</td>\n      <td>...</td>\n      <td>0</td>\n      <td>1</td>\n      <td>2773</td>\n      <td>None</td>\n      <td>None</td>\n      <td>ECGs/002000/saferF1_002773</td>\n      <td>0</td>\n      <td>9120</td>\n      <td>1</td>\n      <td>20</td>\n    </tr>\n    <tr>\n      <th>2776</th>\n      <td>35</td>\n      <td>72.0</td>\n      <td>DiagEnum.AF</td>\n      <td>DiagEnum.CannotExcludePathology</td>\n      <td>DiagEnum.NoAF</td>\n      <td>DiagEnum.AF</td>\n      <td>1</td>\n      <td>DiagEnum.Undecided</td>\n      <td>DiagEnum.Undecided</td>\n      <td>DiagEnum.Undecided</td>\n      <td>...</td>\n      <td>0</td>\n      <td>1</td>\n      <td>2776</td>\n      <td>None</td>\n      <td>None</td>\n      <td>ECGs/002000/saferF1_002776</td>\n      <td>0</td>\n      <td>9120</td>\n      <td>1</td>\n      <td>20</td>\n    </tr>\n    <tr>\n      <th>...</th>\n      <td>...</td>\n      <td>...</td>\n      <td>...</td>\n      <td>...</td>\n      <td>...</td>\n      <td>...</td>\n      <td>...</td>\n      <td>...</td>\n      <td>...</td>\n      <td>...</td>\n      <td>...</td>\n      <td>...</td>\n      <td>...</td>\n      <td>...</td>\n      <td>...</td>\n      <td>...</td>\n      <td>...</td>\n      <td>...</td>\n      <td>...</td>\n      <td>...</td>\n      <td>...</td>\n    </tr>\n    <tr>\n      <th>162089</th>\n      <td>2134</td>\n      <td>68.0</td>\n      <td>DiagEnum.AF</td>\n      <td>DiagEnum.AF</td>\n      <td>DiagEnum.AF</td>\n      <td>DiagEnum.AF</td>\n      <td>1</td>\n      <td>DiagEnum.Undecided</td>\n      <td>DiagEnum.Undecided</td>\n      <td>DiagEnum.Undecided</td>\n      <td>...</td>\n      <td>0</td>\n      <td>1</td>\n      <td>162089</td>\n      <td>None</td>\n      <td>None</td>\n      <td>ECGs/162000/saferF1_162089</td>\n      <td>0</td>\n      <td>9120</td>\n      <td>1</td>\n      <td>20</td>\n    </tr>\n    <tr>\n      <th>162090</th>\n      <td>2134</td>\n      <td>68.0</td>\n      <td>DiagEnum.AF</td>\n      <td>DiagEnum.AF</td>\n      <td>DiagEnum.AF</td>\n      <td>DiagEnum.AF</td>\n      <td>1</td>\n      <td>DiagEnum.Undecided</td>\n      <td>DiagEnum.Undecided</td>\n      <td>DiagEnum.Undecided</td>\n      <td>...</td>\n      <td>0</td>\n      <td>1</td>\n      <td>162090</td>\n      <td>None</td>\n      <td>None</td>\n      <td>ECGs/162000/saferF1_162090</td>\n      <td>0</td>\n      <td>9120</td>\n      <td>1</td>\n      <td>20</td>\n    </tr>\n    <tr>\n      <th>162091</th>\n      <td>2134</td>\n      <td>68.0</td>\n      <td>DiagEnum.AF</td>\n      <td>DiagEnum.AF</td>\n      <td>DiagEnum.AF</td>\n      <td>DiagEnum.AF</td>\n      <td>1</td>\n      <td>DiagEnum.Undecided</td>\n      <td>DiagEnum.Undecided</td>\n      <td>DiagEnum.Undecided</td>\n      <td>...</td>\n      <td>0</td>\n      <td>1</td>\n      <td>162091</td>\n      <td>None</td>\n      <td>None</td>\n      <td>ECGs/162000/saferF1_162091</td>\n      <td>0</td>\n      <td>9120</td>\n      <td>1</td>\n      <td>20</td>\n    </tr>\n    <tr>\n      <th>162093</th>\n      <td>2134</td>\n      <td>68.0</td>\n      <td>DiagEnum.AF</td>\n      <td>DiagEnum.AF</td>\n      <td>DiagEnum.AF</td>\n      <td>DiagEnum.AF</td>\n      <td>1</td>\n      <td>DiagEnum.Undecided</td>\n      <td>DiagEnum.Undecided</td>\n      <td>DiagEnum.Undecided</td>\n      <td>...</td>\n      <td>0</td>\n      <td>1</td>\n      <td>162093</td>\n      <td>None</td>\n      <td>None</td>\n      <td>ECGs/162000/saferF1_162093</td>\n      <td>0</td>\n      <td>9120</td>\n      <td>1</td>\n      <td>20</td>\n    </tr>\n    <tr>\n      <th>162094</th>\n      <td>2134</td>\n      <td>68.0</td>\n      <td>DiagEnum.AF</td>\n      <td>DiagEnum.AF</td>\n      <td>DiagEnum.AF</td>\n      <td>DiagEnum.AF</td>\n      <td>1</td>\n      <td>DiagEnum.Undecided</td>\n      <td>DiagEnum.Undecided</td>\n      <td>DiagEnum.Undecided</td>\n      <td>...</td>\n      <td>0</td>\n      <td>1</td>\n      <td>162094</td>\n      <td>None</td>\n      <td>None</td>\n      <td>ECGs/162000/saferF1_162094</td>\n      <td>0</td>\n      <td>9120</td>\n      <td>1</td>\n      <td>20</td>\n    </tr>\n  </tbody>\n</table>\n<p>977 rows × 51 columns</p>\n</div>"
     },
     "execution_count": 8,
     "metadata": {},
     "output_type": "execute_result"
    }
   ],
   "source": [
    "ecg_data[(~ecg_data[\"measID\"].isin(ecg_data_new[\"measID\"])) & (ecg_data[\"ptDiag\"] == DiagEnum.AF)]"
   ],
   "metadata": {
    "collapsed": false
   }
  },
  {
   "cell_type": "code",
   "execution_count": 10,
   "outputs": [],
   "source": [
    "feas1_path = r\"D:\\2022_23_DSiromani\\Feas1\"\n",
    "feas1_noise_predictions = pd.read_pickle(os.path.join(feas1_path, \"ECGs/feas1_noise_predictions.pk\"))"
   ],
   "metadata": {
    "collapsed": false
   }
  },
  {
   "cell_type": "code",
   "execution_count": 16,
   "outputs": [
    {
     "data": {
      "text/plain": "False    129299\nTrue      23933\ndtype: int64"
     },
     "execution_count": 16,
     "metadata": {},
     "output_type": "execute_result"
    }
   ],
   "source": [
    "(feas1_noise_predictions > 0).value_counts()"
   ],
   "metadata": {
    "collapsed": false
   }
  },
  {
   "cell_type": "code",
   "execution_count": 18,
   "outputs": [
    {
     "data": {
      "text/plain": " NaN         1792\n-0.701225       2\n-1.044475       2\n 0.995961       2\n-0.849019       2\n             ... \n-0.048315       1\n-0.962363       1\n-0.232395       1\n-0.943354       1\n 0.147504       1\nName: noise_prediction, Length: 10180, dtype: int64"
     },
     "execution_count": 18,
     "metadata": {},
     "output_type": "execute_result"
    }
   ],
   "source": [
    "ecg_data[\"noise_prediction\"] = feas1_noise_predictions\n",
    "ecg_data[ecg_data['poss_AF_tag'] == 1][\"noise_prediction\"].value_counts(dropna=False)"
   ],
   "metadata": {
    "collapsed": false
   }
  }
 ],
 "metadata": {
  "kernelspec": {
   "display_name": "Python 3",
   "language": "python",
   "name": "python3"
  },
  "language_info": {
   "codemirror_mode": {
    "name": "ipython",
    "version": 2
   },
   "file_extension": ".py",
   "mimetype": "text/x-python",
   "name": "python",
   "nbconvert_exporter": "python",
   "pygments_lexer": "ipython2",
   "version": "2.7.6"
  }
 },
 "nbformat": 4,
 "nbformat_minor": 0
}
